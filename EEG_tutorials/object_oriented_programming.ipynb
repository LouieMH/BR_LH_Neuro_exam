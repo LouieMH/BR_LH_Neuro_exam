{
 "cells": [
  {
   "cell_type": "markdown",
   "metadata": {},
   "source": [
    "# Introduction to Python classes\n",
    "Python is a programming language which allows for object-oriented programming. The basic idea, is that it is possible to combine both data and associated procedures (known as methods) into a single unit (known as an object) which operate on the data.\n",
    "\n",
    "This notebook aims to provide a brief overview of this concept to enhance understanding of the syntax used when utilising the tools in the MNE toolbox. To begin, a class must be defined, which serves as the blueprint for creating objects. \n",
    "\n",
    "\n",
    "Let's use the following example:"
   ]
  },
  {
   "cell_type": "code",
   "execution_count": 1,
   "metadata": {
    "execution": {
     "iopub.execute_input": "2023-02-14T09:32:31.920754Z",
     "iopub.status.busy": "2023-02-14T09:32:31.919960Z",
     "iopub.status.idle": "2023-02-14T09:32:31.929571Z",
     "shell.execute_reply": "2023-02-14T09:32:31.928452Z",
     "shell.execute_reply.started": "2023-02-14T09:32:31.920682Z"
    },
    "tags": []
   },
   "outputs": [],
   "source": [
    "class Dog:\n",
    "    def __init__(self, name, breed, age):\n",
    "        self.name = name\n",
    "        self.breed = breed\n",
    "        self.age = age\n",
    "    \n",
    "    # defining methods\n",
    "    def bark(self):\n",
    "        print(\"Woof woof!\")\n",
    "    \n",
    "    def introduce(self):\n",
    "        print(\"My name is \" + self.name + \" and I am a \" + self.breed + \".\") \n",
    "\n",
    "    def birthday(self):\n",
    "        self.age += 1"
   ]
  },
  {
   "cell_type": "markdown",
   "metadata": {},
   "source": [
    "#### init\n",
    "`__init__` is a special method in Python classes, also known as a constructor method. It is automatically called when an object of the class is created and is used to initialise the attributes of the object.\n",
    "\n",
    "In the example class Dog, `__init__ `takes three arguments: name, breed and age. These values are passed to the method when an object of the class is created, and are used to initialise the name and breed attributes of the object.\n",
    "\n",
    "### self\n",
    "In Python, the `self` keyword is used to refer to the current instance of a class. It is used to access and modify the attributes and methods of the current object.\n",
    "\n",
    "When a method is called on an object, the object is automatically passed as the first argument to the method. This first argument is typically named self by convention, but it can be named anything.\n",
    "\n",
    "For example, in the the birthday method, `self.age` is used to access the age attribute of the object.\n",
    "\n",
    "It is worth noting that when you call a method on an object, you don't need to pass the self argument, python takes care of passing it when using the syntax seen in the following code chunk. "
   ]
  },
  {
   "cell_type": "code",
   "execution_count": 3,
   "metadata": {
    "execution": {
     "iopub.execute_input": "2023-02-14T09:35:53.125761Z",
     "iopub.status.busy": "2023-02-14T09:35:53.124954Z",
     "iopub.status.idle": "2023-02-14T09:35:53.137129Z",
     "shell.execute_reply": "2023-02-14T09:35:53.135934Z",
     "shell.execute_reply.started": "2023-02-14T09:35:53.125690Z"
    },
    "tags": []
   },
   "outputs": [
    {
     "name": "stdout",
     "output_type": "stream",
     "text": [
      "Woof woof!\n",
      "My name is Simba and I am a Cocker Spaniel.\n",
      "3\n"
     ]
    },
    {
     "data": {
      "text/plain": [
       "3"
      ]
     },
     "execution_count": 3,
     "metadata": {},
     "output_type": "execute_result"
    }
   ],
   "source": [
    "dog = Dog(\"Simba\", \"Cocker Spaniel\", 3)\n",
    "\n",
    "# using the bark method\n",
    "dog.bark()\n",
    "\n",
    "# using the introduce method\n",
    "dog.introduce()\n",
    "\n",
    "# checking the age\n",
    "print(dog.age)"
   ]
  },
  {
   "cell_type": "markdown",
   "metadata": {},
   "source": [
    "The two methods above did not change the object. However, some methods defined might change the attributes or behavior of the object. These are known as mutator methods. In the example class Dog, the birthday method is an example of a mutator method, as it changes the age attribute of the object. On the other hand, the bark and introduce methods are known as accessor methods, as they do not modify the state of the object, they only return or print information about the object.\n",
    "\n",
    "Let's test it out!"
   ]
  },
  {
   "cell_type": "code",
   "execution_count": 4,
   "metadata": {
    "execution": {
     "iopub.execute_input": "2023-02-14T09:37:23.836820Z",
     "iopub.status.busy": "2023-02-14T09:37:23.836022Z",
     "iopub.status.idle": "2023-02-14T09:37:23.844355Z",
     "shell.execute_reply": "2023-02-14T09:37:23.843271Z",
     "shell.execute_reply.started": "2023-02-14T09:37:23.836762Z"
    },
    "tags": []
   },
   "outputs": [
    {
     "name": "stdout",
     "output_type": "stream",
     "text": [
      "Before Simbas birthday, the dog was 3.\n",
      "After Simbas birthday, the dog is 4.\n"
     ]
    }
   ],
   "source": [
    "print(f'Before {dog.name}s birthday, the dog was {dog.age}.')\n",
    "\n",
    "dog.birthday()\n",
    "\n",
    "print(f'After {dog.name}s birthday, the dog is {dog.age}.')"
   ]
  },
  {
   "cell_type": "markdown",
   "metadata": {},
   "source": [
    "## MNE classes"
   ]
  },
  {
   "cell_type": "markdown",
   "metadata": {},
   "source": [
    "The MNE toolkit is a library for processing of electrophysiological data, such as EEG and MEG, and it provides several classes that represent different types of data. The `Raw`, `Epochs`, and `Evoked` are examples of these classes and all have associated methods that can be used to manipulate and analyse the data they represent.\n",
    "\n",
    "* The `Raw` class is used to represent continuous data, such as raw EEG recordings. It includes methods for filtering, dropping bad channels, plotting, resampling, and so forth.\n",
    "\n",
    "* The `Epochs` class contains data that has been segmented into \"epochs\" or time windows of interest. It includes methods for averaging, baseline correction, and plotting.\n",
    "\n",
    "* The `Evoked` class is used to represent the average response to a specific stimulus or condition. It includes methods for plotting and statistics.\n",
    "\n",
    "\n",
    "Some methods of the classes modify the object in place such as the Raw.filter() method. This means that the object is modified and no new object is returned. This is different from the Epochs.average() method which returns a new Evoked object. By modifying in place memory is saved as the original object is not copied."
   ]
  }
 ],
 "metadata": {
  "kernelspec": {
   "display_name": "Python 3 ",
   "language": "python",
   "name": "python3"
  },
  "language_info": {
   "codemirror_mode": {
    "name": "ipython",
    "version": 3
   },
   "file_extension": ".py",
   "mimetype": "text/x-python",
   "name": "python",
   "nbconvert_exporter": "python",
   "pygments_lexer": "ipython3",
   "version": "3.10.8"
  },
  "vscode": {
   "interpreter": {
    "hash": "31f2aee4e71d21fbe5cf8b01ff0e069b9275f58929596ceb00d14d90e3e16cd6"
   }
  }
 },
 "nbformat": 4,
 "nbformat_minor": 4
}
