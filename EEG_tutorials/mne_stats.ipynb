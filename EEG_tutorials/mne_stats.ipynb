{
 "cells": [
  {
   "cell_type": "markdown",
   "id": "059acd4d",
   "metadata": {},
   "source": [
    "# EEG Statistics\n",
    "\n",
    "### FaceWord experiment\n",
    "Using some of the FaceWord data you collected, we are going to go through a couple of different ways to discern whether the difference in signal between your conditions is statistically significant. You can go through the notebook using your FaceWord data or the data from your own experiment, that's up to you :-)\n",
    "\n",
    "## Epochs\n",
    "We need epochs for the statistical tests, so you can insert your preprocessed data from earlier tutorials under this section. I'll read in some epochs from your FaceWord which I prepared earlier and I'll be looking at the words/images contrast.\n",
    "\n",
    "(Tip: You can save the epochs object you created in your preprocessing notebook by using epochs.save('your_epochs-epo.fif'))\n",
    "\n",
    "(Extra tip: You can run terminal commands from cells using the os.system() function or simply writing an exclamation mark before the command)"
   ]
  },
  {
   "cell_type": "code",
   "execution_count": 1,
   "id": "e780bc5a-03de-4c82-8102-2cdd74b342ce",
   "metadata": {
    "execution": {
     "iopub.execute_input": "2022-05-05T09:21:10.631411Z",
     "iopub.status.busy": "2022-05-05T09:21:10.631015Z",
     "iopub.status.idle": "2022-05-05T09:21:16.988772Z",
     "shell.execute_reply": "2022-05-05T09:21:16.987654Z",
     "shell.execute_reply.started": "2022-05-05T09:21:10.631381Z"
    },
    "tags": []
   },
   "outputs": [
    {
     "name": "stdout",
     "output_type": "stream",
     "text": [
      "Requirement already satisfied: mne in /opt/conda/lib/python3.9/site-packages (1.0.2)\n",
      "Requirement already satisfied: scipy>=1.1.0 in /opt/conda/lib/python3.9/site-packages (from mne) (1.7.1)\n",
      "Requirement already satisfied: tqdm in /opt/conda/lib/python3.9/site-packages (from mne) (4.62.0)\n",
      "Requirement already satisfied: numpy>=1.15.4 in /opt/conda/lib/python3.9/site-packages (from mne) (1.21.2)\n",
      "Requirement already satisfied: pooch>=1.5 in /opt/conda/lib/python3.9/site-packages (from mne) (1.6.0)\n",
      "Requirement already satisfied: matplotlib in /opt/conda/lib/python3.9/site-packages (from mne) (3.4.3)\n",
      "Requirement already satisfied: packaging in /opt/conda/lib/python3.9/site-packages (from mne) (21.0)\n",
      "Requirement already satisfied: jinja2 in /opt/conda/lib/python3.9/site-packages (from mne) (3.0.1)\n",
      "Requirement already satisfied: decorator in /opt/conda/lib/python3.9/site-packages (from mne) (5.0.9)\n",
      "Requirement already satisfied: appdirs>=1.3.0 in /opt/conda/lib/python3.9/site-packages (from pooch>=1.5->mne) (1.4.4)\n",
      "Requirement already satisfied: requests>=2.19.0 in /opt/conda/lib/python3.9/site-packages (from pooch>=1.5->mne) (2.26.0)\n",
      "Requirement already satisfied: pyparsing>=2.0.2 in /opt/conda/lib/python3.9/site-packages (from packaging->mne) (2.4.7)\n",
      "Requirement already satisfied: certifi>=2017.4.17 in /opt/conda/lib/python3.9/site-packages (from requests>=2.19.0->pooch>=1.5->mne) (2021.5.30)\n",
      "Requirement already satisfied: urllib3<1.27,>=1.21.1 in /opt/conda/lib/python3.9/site-packages (from requests>=2.19.0->pooch>=1.5->mne) (1.26.6)\n",
      "Requirement already satisfied: idna<4,>=2.5 in /opt/conda/lib/python3.9/site-packages (from requests>=2.19.0->pooch>=1.5->mne) (3.1)\n",
      "Requirement already satisfied: charset-normalizer~=2.0.0 in /opt/conda/lib/python3.9/site-packages (from requests>=2.19.0->pooch>=1.5->mne) (2.0.0)\n",
      "Requirement already satisfied: MarkupSafe>=2.0 in /opt/conda/lib/python3.9/site-packages (from jinja2->mne) (2.0.1)\n",
      "Requirement already satisfied: kiwisolver>=1.0.1 in /opt/conda/lib/python3.9/site-packages (from matplotlib->mne) (1.3.1)\n",
      "Requirement already satisfied: pillow>=6.2.0 in /opt/conda/lib/python3.9/site-packages (from matplotlib->mne) (8.3.1)\n",
      "Requirement already satisfied: python-dateutil>=2.7 in /opt/conda/lib/python3.9/site-packages (from matplotlib->mne) (2.8.2)\n",
      "Requirement already satisfied: cycler>=0.10 in /opt/conda/lib/python3.9/site-packages (from matplotlib->mne) (0.10.0)\n",
      "Requirement already satisfied: six in /opt/conda/lib/python3.9/site-packages (from cycler>=0.10->matplotlib->mne) (1.16.0)\n",
      "Requirement already satisfied: scikit-learn in /opt/conda/lib/python3.9/site-packages (1.0.2)\n",
      "Requirement already satisfied: numpy>=1.14.6 in /opt/conda/lib/python3.9/site-packages (from scikit-learn) (1.21.2)\n",
      "Requirement already satisfied: scipy>=1.1.0 in /opt/conda/lib/python3.9/site-packages (from scikit-learn) (1.7.1)\n",
      "Requirement already satisfied: threadpoolctl>=2.0.0 in /opt/conda/lib/python3.9/site-packages (from scikit-learn) (3.1.0)\n",
      "Requirement already satisfied: joblib>=0.11 in /opt/conda/lib/python3.9/site-packages (from scikit-learn) (1.1.0)\n"
     ]
    }
   ],
   "source": [
    "# importing modules\n",
    "import os\n",
    "import pip\n",
    "!python -m pip install mne\n",
    "os.system('python -m pip install scikit-learn')\n",
    "import numpy as np\n",
    "import pandas as pd\n",
    "import mne"
   ]
  },
  {
   "cell_type": "code",
   "execution_count": 2,
   "id": "08e0c6d7-d19d-4c18-80e2-621a3ab28074",
   "metadata": {
    "execution": {
     "iopub.execute_input": "2022-05-05T09:21:16.991240Z",
     "iopub.status.busy": "2022-05-05T09:21:16.990820Z",
     "iopub.status.idle": "2022-05-05T09:21:17.400340Z",
     "shell.execute_reply": "2022-05-05T09:21:17.399299Z",
     "shell.execute_reply.started": "2022-05-05T09:21:16.991203Z"
    },
    "tags": []
   },
   "outputs": [
    {
     "name": "stdout",
     "output_type": "stream",
     "text": [
      "Reading /work/57899/faceword-epo.fif ...\n",
      "    Found the data of interest:\n",
      "        t =    -100.00 ...     696.00 ms\n",
      "        0 CTF compensation matrices available\n",
      "0 bad epochs dropped\n",
      "Not setting metadata\n",
      "210 matching events found\n",
      "No baseline correction applied\n",
      "0 projection items activated\n"
     ]
    }
   ],
   "source": [
    "epochs = mne.read_epochs('/work/57899/faceword-epo.fif')"
   ]
  },
  {
   "cell_type": "code",
   "execution_count": 3,
   "id": "559befef",
   "metadata": {
    "execution": {
     "iopub.execute_input": "2022-05-05T09:21:17.402408Z",
     "iopub.status.busy": "2022-05-05T09:21:17.401942Z",
     "iopub.status.idle": "2022-05-05T09:21:17.416596Z",
     "shell.execute_reply": "2022-05-05T09:21:17.415727Z",
     "shell.execute_reply.started": "2022-05-05T09:21:17.402362Z"
    },
    "tags": []
   },
   "outputs": [],
   "source": [
    "word_pos_epochs = epochs['Word']\n",
    "word_neg_epochs = epochs['Image']"
   ]
  },
  {
   "cell_type": "markdown",
   "id": "859ee979-9344-4e74-ad59-08eb6a89d58b",
   "metadata": {
    "tags": []
   },
   "source": [
    "## Windowed mean\n",
    "Now we have our two conditions: trials with words vs images. One of the simplest way in which we can determine whether the signal in our two conditions are statistically significant is by:\n",
    "\n",
    "1) Segmenting our data using only certain channels in a specific time window. Keep in mind that which time window and channels should be established a priori, for instance according to the literature. \n",
    "2) Taking the mean of that window across channels and and samples.\n",
    "3) Running statistical tests on the windowed means from the two conditions.\n",
    "\n",
    "In an experiment with multiple participants we would also average over trials from individual participants, in order to only have one data point per participant (and thereby avoid multiple comparisons). However, since we have one participant, we can keep one dimension of the individual data, i.e. the trials.\n",
    "\n",
    "### T-test\n",
    "We can now do a t-test on the trials from the two conditions, to establish whether the means of the two groups are statistically significant.\n",
    "\n",
    "We can use the get_data() function to get the numerical values of the signal (in microvolts) for the t-test. tmin and tmax are used to define the size of the window, and the picks are the channels that we expect to see an effect in."
   ]
  },
  {
   "cell_type": "code",
   "execution_count": 4,
   "id": "f1c73fca-e820-4191-b071-19e144f3a5f4",
   "metadata": {
    "execution": {
     "iopub.execute_input": "2022-05-05T09:21:17.418277Z",
     "iopub.status.busy": "2022-05-05T09:21:17.417906Z",
     "iopub.status.idle": "2022-05-05T09:21:17.452462Z",
     "shell.execute_reply": "2022-05-05T09:21:17.451563Z",
     "shell.execute_reply.started": "2022-05-05T09:21:17.418239Z"
    },
    "tags": []
   },
   "outputs": [
    {
     "name": "stdout",
     "output_type": "stream",
     "text": [
      "(55, 3, 25)\n",
      "(59, 3, 25)\n"
     ]
    }
   ],
   "source": [
    "word_pos_data = word_pos_epochs.get_data(picks=['O1', 'Oz', 'O2'], tmin=.1, tmax=.2)\n",
    "print(word_pos_data.shape)\n",
    "\n",
    "word_neg_data = word_neg_epochs.get_data(picks=['O1', 'Oz', 'O2'], tmin=.1, tmax=.2)\n",
    "print(word_neg_data.shape)"
   ]
  },
  {
   "cell_type": "markdown",
   "id": "24ad0aea-7a65-4dae-ade6-b3ca4cbf4e10",
   "metadata": {},
   "source": [
    "Investigating the resulting data; how many dimensions does the data have? What do you think they represent (i.e. which dimension is channels, trials, etc.)?\n",
    "\n",
    "Now we can average over the data so we only have the trials dimension."
   ]
  },
  {
   "cell_type": "code",
   "execution_count": 5,
   "id": "7945d0f9-517f-40e2-85bf-3e9487c1c02c",
   "metadata": {
    "execution": {
     "iopub.execute_input": "2022-05-05T09:21:17.455574Z",
     "iopub.status.busy": "2022-05-05T09:21:17.454920Z",
     "iopub.status.idle": "2022-05-05T09:21:17.587908Z",
     "shell.execute_reply": "2022-05-05T09:21:17.587307Z",
     "shell.execute_reply.started": "2022-05-05T09:21:17.455534Z"
    },
    "tags": []
   },
   "outputs": [
    {
     "name": "stdout",
     "output_type": "stream",
     "text": [
      "(55, 3)\n",
      "(55,)\n"
     ]
    }
   ],
   "source": [
    "word_pos_mean = np.mean(word_pos_data, axis=2) # averaging over the third dimension of the data\n",
    "print(word_pos_mean.shape)\n",
    "\n",
    "word_pos_mean = np.mean(word_pos_mean, axis=1) # averaging over the second dimension of the data\n",
    "print(word_pos_mean.shape)\n",
    "\n",
    "word_neg_mean = np.mean(word_neg_data, axis=2)\n",
    "word_neg_mean = np.mean(word_neg_mean, axis=1)"
   ]
  },
  {
   "cell_type": "code",
   "execution_count": 6,
   "id": "8c3ab517-4410-414c-a900-7ecd5dd9068a",
   "metadata": {
    "execution": {
     "iopub.execute_input": "2022-05-05T09:21:17.589334Z",
     "iopub.status.busy": "2022-05-05T09:21:17.589047Z",
     "iopub.status.idle": "2022-05-05T09:21:18.047436Z",
     "shell.execute_reply": "2022-05-05T09:21:18.046909Z",
     "shell.execute_reply.started": "2022-05-05T09:21:17.589297Z"
    },
    "tags": []
   },
   "outputs": [
    {
     "data": {
      "text/plain": [
       "Ttest_indResult(statistic=4.720551864375774, pvalue=6.853033457663229e-06)"
      ]
     },
     "execution_count": 6,
     "metadata": {},
     "output_type": "execute_result"
    }
   ],
   "source": [
    "from scipy import stats as st\n",
    "import statistics as stats\n",
    "\n",
    "st.ttest_ind(a=word_pos_mean, b=word_neg_mean)"
   ]
  },
  {
   "cell_type": "markdown",
   "id": "6a8c6192-4a8e-458f-80f4-154104fed482",
   "metadata": {},
   "source": [
    "### Mixed effects model\n",
    "By averaging over multiple dimensions of our data, we are of couse throwing away some information. If we had multiple participants, we could add the trials back into the mix by using a mixed-effects model. Since we already have trials, we could add the samples or channels as random effects in a mixed-effects model.\n",
    "\n",
    "We can export the data in a csv format so you have the option of doing a bit of modelling in R if you would like to ;-)"
   ]
  },
  {
   "cell_type": "code",
   "execution_count": 7,
   "id": "1ef7fed7-5cc3-4a39-ae2a-bd3e1830e462",
   "metadata": {
    "execution": {
     "iopub.execute_input": "2022-05-05T09:21:18.048799Z",
     "iopub.status.busy": "2022-05-05T09:21:18.048526Z",
     "iopub.status.idle": "2022-05-05T09:21:18.179492Z",
     "shell.execute_reply": "2022-05-05T09:21:18.179005Z",
     "shell.execute_reply.started": "2022-05-05T09:21:18.048771Z"
    },
    "tags": []
   },
   "outputs": [],
   "source": [
    "shape = word_pos_data.shape\n",
    "index = pd.MultiIndex.from_product([range(s)for s in shape])\n",
    "word_pos = pd.DataFrame({'word_pos_data': word_pos_data.flatten()}, index=index).reset_index()\n",
    "word_pos.to_csv('word_pos_data.csv', index=False)\n",
    "\n",
    "shape = word_neg_data.shape\n",
    "index = pd.MultiIndex.from_product([range(s)for s in shape])\n",
    "word_neg = pd.DataFrame({'word_neg_data': word_neg_data.flatten()}, index=index).reset_index()\n",
    "word_neg.to_csv('word_neg_data.csv', index=False)"
   ]
  },
  {
   "cell_type": "markdown",
   "id": "7588eb06-3b8c-4516-b8c5-045f2baa2ed0",
   "metadata": {},
   "source": [
    "## Permutation test\n",
    "The null hypothesis (H0) is that the data in the two conditions comes from the same probability distribution (i.e. they are interchangeable). In order to test this we scramble the data in the conditions n amount of times to get an idea of what distributions of cluster sizes we would expect if there is no difference between conditions. Based on this distribution we can establish how large a cluster should be to cross our significance level (e.g. 0.05) and then compare this to the clusters based on our conditions. If the highest value from our clusters is larger, this suggests that the data in the conditions are not interchangeable (i.e. the difference between them is significant)."
   ]
  },
  {
   "cell_type": "code",
   "execution_count": 8,
   "id": "b98837e2-92ad-42f6-bc12-6de37b5774fc",
   "metadata": {
    "execution": {
     "iopub.execute_input": "2022-05-05T09:21:18.180722Z",
     "iopub.status.busy": "2022-05-05T09:21:18.180419Z",
     "iopub.status.idle": "2022-05-05T09:21:18.192045Z",
     "shell.execute_reply": "2022-05-05T09:21:18.191623Z",
     "shell.execute_reply.started": "2022-05-05T09:21:18.180700Z"
    },
    "tags": []
   },
   "outputs": [
    {
     "name": "stdout",
     "output_type": "stream",
     "text": [
      "[[[-7.93399079e-07 -1.59655977e-06 -6.89673617e-07 ...  1.46941706e-05\n",
      "    1.23310414e-05  9.39096877e-06]\n",
      "  [-2.24173785e-06 -6.35092429e-07  7.60858177e-07 ...  5.36848501e-06\n",
      "    4.12344204e-06  3.63465338e-06]\n",
      "  [-1.75895496e-06 -1.18791797e-06 -6.95531627e-07 ... -2.60808724e-06\n",
      "   -2.78285065e-06 -2.06021089e-06]\n",
      "  ...\n",
      "  [ 3.02386366e-06  2.98317213e-06  2.10792808e-06 ...  3.78181472e-06\n",
      "    3.61343196e-06  3.98524213e-06]\n",
      "  [ 2.03756684e-06  1.99100690e-06  1.72283547e-06 ...  8.75635537e-06\n",
      "    8.53774558e-06  9.63122016e-06]\n",
      "  [-1.00649915e-06  3.84365063e-07  1.21990226e-06 ...  8.87269393e-07\n",
      "    3.47035603e-07  1.45680608e-06]]\n",
      "\n",
      " [[ 2.76387822e-06  3.29813670e-06  3.24733815e-06 ...  1.10220362e-05\n",
      "    1.27327310e-05  1.10019662e-05]\n",
      "  [ 1.16508047e-06  1.33731621e-06  2.05725376e-06 ...  9.24752835e-06\n",
      "    9.47908134e-06  9.09758323e-06]\n",
      "  [-6.61284876e-07  1.69174782e-07  9.97945805e-07 ...  3.23308709e-06\n",
      "    3.08497661e-06  1.91517195e-06]\n",
      "  ...\n",
      "  [-1.86382115e-06 -2.77738076e-06 -3.78847441e-06 ... -8.11099381e-08\n",
      "   -5.04243697e-07  3.38428810e-08]\n",
      "  [-1.77605146e-06 -1.55519576e-06 -1.94294283e-06 ...  1.39189008e-06\n",
      "    1.82675852e-06  1.98940982e-06]\n",
      "  [-2.25534735e-06 -2.60035853e-06 -1.84588064e-06 ... -1.81546041e-06\n",
      "   -5.50048871e-06 -7.71972348e-06]]\n",
      "\n",
      " [[-3.71868087e-06 -1.99598620e-06  3.05894132e-07 ...  4.47298203e-05\n",
      "    4.59806651e-05  4.54347209e-05]\n",
      "  [-1.42783540e-06 -2.93829112e-06 -1.79333659e-06 ...  4.97184177e-05\n",
      "    4.84868397e-05  4.81729665e-05]\n",
      "  [ 3.55537128e-06  1.03995009e-06 -6.14884684e-07 ...  4.14082350e-05\n",
      "    4.12096363e-05  4.08016733e-05]\n",
      "  ...\n",
      "  [ 4.26789417e-06  4.64895572e-06  3.19910801e-06 ... -5.12235282e-05\n",
      "   -5.23679432e-05 -5.38204281e-05]\n",
      "  [-1.58098158e-06  4.55052811e-07  1.40661507e-06 ... -6.58133310e-05\n",
      "   -6.54412618e-05 -6.67381227e-05]\n",
      "  [-3.29457298e-07  3.20139484e-06  4.22523232e-06 ... -4.40896815e-05\n",
      "   -4.28793609e-05 -4.33760934e-05]]\n",
      "\n",
      " ...\n",
      "\n",
      " [[-9.06573855e-06 -8.85801578e-06 -7.26471928e-06 ...  5.26365250e-05\n",
      "    5.00047878e-05  4.79477174e-05]\n",
      "  [-4.89933780e-06 -6.02145055e-06 -5.22128547e-06 ...  3.66422557e-05\n",
      "    3.52284702e-05  3.63708392e-05]\n",
      "  [-6.36258558e-09 -1.36476294e-06 -2.60009842e-06 ...  3.61790071e-05\n",
      "    3.49741434e-05  3.63374396e-05]\n",
      "  ...\n",
      "  [ 1.60332072e-07  1.50051712e-06  3.08667081e-06 ... -3.19707358e-05\n",
      "   -3.03538986e-05 -3.16527095e-05]\n",
      "  [ 4.35759436e-06  2.85662231e-06  9.05328320e-07 ... -4.29949700e-05\n",
      "   -4.17013979e-05 -4.37652262e-05]\n",
      "  [ 1.02241831e-06 -5.08198862e-07 -1.78368157e-06 ... -3.24913014e-05\n",
      "   -3.27930179e-05 -3.50215274e-05]]\n",
      "\n",
      " [[ 1.06215268e-05  1.21230349e-05  1.33422686e-05 ...  1.83317955e-06\n",
      "    1.64134510e-06 -8.83676207e-08]\n",
      "  [ 9.63613071e-06  9.81409117e-06  9.99356577e-06 ... -3.47005085e-06\n",
      "   -4.28425235e-06 -6.17302367e-06]\n",
      "  [ 4.83137199e-06  5.08382262e-06  5.40255686e-06 ... -1.29425202e-05\n",
      "   -1.30614399e-05 -1.48576687e-05]\n",
      "  ...\n",
      "  [-7.45070222e-06 -6.83877162e-06 -5.37298591e-06 ... -2.94283932e-06\n",
      "   -2.81831185e-06 -9.08453526e-07]\n",
      "  [-8.89759044e-06 -8.53548130e-06 -8.75977288e-06 ... -3.59684933e-06\n",
      "   -1.13594617e-06  1.79183192e-06]\n",
      "  [-8.45918852e-06 -9.04964195e-06 -9.28498134e-06 ...  2.18326503e-07\n",
      "    1.99279551e-06  5.83170558e-06]]\n",
      "\n",
      " [[-2.72436195e-06 -3.01340883e-06 -1.91965176e-06 ...  3.56209004e-05\n",
      "    3.41871089e-05  3.36127244e-05]\n",
      "  [-3.01927798e-06 -4.11120897e-06 -4.33718821e-06 ...  2.60445206e-05\n",
      "    2.45226929e-05  2.17800337e-05]\n",
      "  [-5.97212975e-06 -6.29446450e-06 -4.80480419e-06 ...  2.21295504e-05\n",
      "    2.12196540e-05  1.97834047e-05]\n",
      "  ...\n",
      "  [ 3.44363148e-06  3.21248813e-06  1.91073853e-06 ... -1.68986621e-05\n",
      "   -1.64380008e-05 -1.57365563e-05]\n",
      "  [-3.46087696e-06 -3.35158843e-06 -3.84566489e-06 ... -1.20986728e-05\n",
      "   -1.12638068e-05 -9.75205490e-06]\n",
      "  [ 1.13192102e-06  4.43212891e-06  4.91241852e-06 ... -1.89404937e-05\n",
      "   -1.74525517e-05 -1.78155608e-05]]]\n",
      "(55, 200, 28)\n"
     ]
    }
   ],
   "source": [
    "# getting the data from our conditions\n",
    "X = [epochs[k].get_data() for k in ['Word', 'Image']]\n",
    "print(X[0])\n",
    "\n",
    "# transposing\n",
    "X = [np.transpose(x, (0, 2, 1)) for x in X]\n",
    "print(X[0].shape)"
   ]
  },
  {
   "cell_type": "code",
   "execution_count": 9,
   "id": "9d807eac-9ab2-40d1-accd-7fb361b86ea3",
   "metadata": {
    "execution": {
     "iopub.execute_input": "2022-05-05T09:21:18.192925Z",
     "iopub.status.busy": "2022-05-05T09:21:18.192783Z",
     "iopub.status.idle": "2022-05-05T09:21:18.659889Z",
     "shell.execute_reply": "2022-05-05T09:21:18.658498Z",
     "shell.execute_reply.started": "2022-05-05T09:21:18.192908Z"
    },
    "tags": []
   },
   "outputs": [
    {
     "name": "stdout",
     "output_type": "stream",
     "text": [
      "Could not find a adjacency matrix for the data. Computing adjacency based on Delaunay triangulations.\n",
      "-- number of adjacent vertices : 28\n"
     ]
    },
    {
     "data": {
      "text/plain": [
       "Text(0.5, 1.0, 'Between-sensor adjacency')"
      ]
     },
     "execution_count": 9,
     "metadata": {},
     "output_type": "execute_result"
    },
    {
     "data": {
      "image/png": "[encoded data removed]",
      "text/plain": [
       "<Figure size 432x288 with 1 Axes>"
      ]
     },
     "metadata": {
      "needs_background": "light"
     },
     "output_type": "display_data"
    }
   ],
   "source": [
    "import matplotlib.pyplot as plt\n",
    "\n",
    "# finding channel adjacency: informs us which channels are next to each other (for co-localisation)\n",
    "adjacency, ch_names = mne.channels.find_ch_adjacency(epochs.info, ch_type='eeg')\n",
    "\n",
    "# plotting between-sensor adjacency\n",
    "plt.imshow(adjacency.toarray(), cmap='gray',\n",
    "           interpolation='nearest')\n",
    "plt.xlabel('{} EEG'.format(len(ch_names)))\n",
    "plt.ylabel('{} EEG'.format(len(ch_names)))\n",
    "plt.title('Between-sensor adjacency')"
   ]
  },
  {
   "cell_type": "code",
   "execution_count": 10,
   "id": "e57b6d52-79a3-4ff4-9107-690030f0c983",
   "metadata": {
    "execution": {
     "iopub.execute_input": "2022-05-05T09:21:18.662800Z",
     "iopub.status.busy": "2022-05-05T09:21:18.662133Z",
     "iopub.status.idle": "2022-05-05T09:21:32.939368Z",
     "shell.execute_reply": "2022-05-05T09:21:32.937781Z",
     "shell.execute_reply.started": "2022-05-05T09:21:18.662734Z"
    },
    "tags": []
   },
   "outputs": [
    {
     "name": "stdout",
     "output_type": "stream",
     "text": [
      "Using a threshold of 3.925834\n",
      "stat_fun(H1): min=0.000000 max=75.419650\n",
      "Running initial clustering\n",
      "Found 15 clusters\n",
      "Permuting 999 times...\n"
     ]
    },
    {
     "name": "stderr",
     "output_type": "stream",
     "text": [
      "/tmp/ipykernel_276/1839925267.py:5: RuntimeWarning: Ignoring argument \"tail\", performing 1-tailed F-test\n",
      "  cluster_stats = mne.stats.spatio_temporal_cluster_test(X, n_permutations=1000, tail=0,\n"
     ]
    },
    {
     "data": {
      "application/vnd.jupyter.widget-view+json": {
       "model_id": "edf3cdf819c24e9791d7e703e39e31fe",
       "version_major": 2,
       "version_minor": 0
      },
      "text/plain": [
       "  0%|          |  : 0/999 [00:00<?,       ?it/s]"
      ]
     },
     "metadata": {},
     "output_type": "display_data"
    },
    {
     "name": "stdout",
     "output_type": "stream",
     "text": [
      "Computing cluster p-values\n",
      "Done.\n"
     ]
    }
   ],
   "source": [
    "# set family-wise p-value\n",
    "p_accept = 0.05\n",
    "\n",
    "# running the permutation test with 2000 permutations and a random seed of 4\n",
    "cluster_stats = mne.stats.spatio_temporal_cluster_test(X, n_permutations=1000, tail=0,\n",
    "                                             n_jobs=-1, buffer_size=None, adjacency=adjacency, seed=4)\n",
    "\n",
    "# selecting clusters with significant p-values\n",
    "T_obs, clusters, p_values, _ = cluster_stats\n",
    "good_cluster_inds = np.where(p_values < p_accept)[0]"
   ]
  },
  {
   "cell_type": "code",
   "execution_count": 11,
   "id": "cbba1545-1745-4a3a-805c-c2fc2c76e522",
   "metadata": {
    "execution": {
     "iopub.execute_input": "2022-05-05T09:21:32.942004Z",
     "iopub.status.busy": "2022-05-05T09:21:32.941609Z",
     "iopub.status.idle": "2022-05-05T09:21:32.947851Z",
     "shell.execute_reply": "2022-05-05T09:21:32.946987Z",
     "shell.execute_reply.started": "2022-05-05T09:21:32.941972Z"
    },
    "tags": []
   },
   "outputs": [
    {
     "name": "stdout",
     "output_type": "stream",
     "text": [
      "[1.    0.997 1.    0.995 0.995 1.    1.    0.283 0.714 0.853 0.749 0.05\n",
      " 0.134 0.001 0.943]\n",
      "[13]\n"
     ]
    }
   ],
   "source": [
    "print(p_values)\n",
    "print(good_cluster_inds)"
   ]
  },
  {
   "cell_type": "markdown",
   "id": "667a4b1f-41d4-4c66-8677-2a6f665c6c14",
   "metadata": {},
   "source": [
    "The code for this plot is a bit long and complex but you don't have to go through it all, just swap in your conditions in the first couple of lines :-)"
   ]
  },
  {
   "cell_type": "code",
   "execution_count": 12,
   "id": "8d3d5253-3129-42ba-8f67-0e6dca70c755",
   "metadata": {
    "execution": {
     "iopub.execute_input": "2022-05-05T09:21:32.949410Z",
     "iopub.status.busy": "2022-05-05T09:21:32.949076Z",
     "iopub.status.idle": "2022-05-05T09:21:33.909357Z",
     "shell.execute_reply": "2022-05-05T09:21:33.908677Z",
     "shell.execute_reply.started": "2022-05-05T09:21:32.949372Z"
    },
    "tags": []
   },
   "outputs": [
    {
     "name": "stdout",
     "output_type": "stream",
     "text": [
      "combining channels using \"gfp\"\n",
      "combining channels using \"gfp\"\n"
     ]
    },
    {
     "data": {
      "image/png": "[encoded data removed]",
      "text/plain": [
       "<Figure size 720x216 with 3 Axes>"
      ]
     },
     "metadata": {
      "needs_background": "light"
     },
     "output_type": "display_data"
    }
   ],
   "source": [
    "from mpl_toolkits.axes_grid1 import make_axes_locatable\n",
    "\n",
    "# configuration of variables for visualisation\n",
    "colors = {\"Word\": \"crimson\", \"Image\": 'steelblue'}\n",
    "\n",
    "# organising data for plotting\n",
    "evokeds = {cond: epochs[cond].average() for cond in ['Word', 'Image']} \n",
    "\n",
    "# looping over clusters\n",
    "for i_clu, clu_idx in enumerate(good_cluster_inds):\n",
    "    # unpacking cluster information\n",
    "    time_inds, space_inds = np.squeeze(clusters[clu_idx])\n",
    "    ch_inds = np.unique(space_inds)\n",
    "    time_inds = np.unique(time_inds)\n",
    "\n",
    "    # topography for F stat\n",
    "    f_map = T_obs[time_inds, ...].mean(axis=0)\n",
    "\n",
    "    # getting signals at the sensors contributing to the cluster\n",
    "    sig_times = epochs.times[time_inds]\n",
    "\n",
    "    # creating spatial mask\n",
    "    mask = np.zeros((f_map.shape[0], 1), dtype=bool)\n",
    "    mask[ch_inds, :] = True\n",
    "\n",
    "    # initialising the figure\n",
    "    fig, ax_topo = plt.subplots(1, 1, figsize=(10, 3))\n",
    "\n",
    "    # plotting average test statistic and mark significant sensors\n",
    "    f_evoked = mne.EvokedArray(f_map[:, np.newaxis], epochs.info, tmin=0)\n",
    "    f_evoked.plot_topomap(times=0, mask=mask, axes=ax_topo, cmap='Reds',\n",
    "                          vmin=np.min, vmax=np.max, show=False,\n",
    "                          colorbar=False, mask_params=dict(markersize=10))\n",
    "    image = ax_topo.images[0]\n",
    "\n",
    "    # creating additional axes (for ERF and colorbar)\n",
    "    divider = make_axes_locatable(ax_topo)\n",
    "\n",
    "    # adding axes for colourbar\n",
    "    ax_colorbar = divider.append_axes('right', size='5%', pad=0.05)\n",
    "    plt.colorbar(image, cax=ax_colorbar)\n",
    "    ax_topo.set_xlabel(\n",
    "        'Averaged F-map ({:0.3f} - {:0.3f} s)'.format(*sig_times[[0, -1]]))\n",
    "\n",
    "    # adding new axis for time courses and plot time courses\n",
    "    ax_signals = divider.append_axes('right', size='300%', pad=1.2)\n",
    "    title = 'Cluster #{0}, {1} sensor'.format(i_clu + 1, len(ch_inds))\n",
    "    if len(ch_inds) > 1:\n",
    "        title += \"s (mean)\"\n",
    "    mne.viz.plot_compare_evokeds(evokeds, title=title, picks=ch_inds, axes=ax_signals,\n",
    "                         colors=colors, show=False,\n",
    "                         split_legend=True, truncate_yaxis='auto')\n",
    "\n",
    "    # plotting temporal cluster extent\n",
    "    ymin, ymax = ax_signals.get_ylim()\n",
    "    ax_signals.fill_betweenx((ymin, ymax), sig_times[0], sig_times[-1],\n",
    "                             color='orange', alpha=0.3)\n",
    "\n",
    "    # clean-up\n",
    "    mne.viz.tight_layout(fig=fig)\n",
    "    fig.subplots_adjust(bottom=.05)\n",
    "    plt.show()"
   ]
  },
  {
   "cell_type": "code",
   "execution_count": 13,
   "id": "76ccadad-a4bb-4574-9012-696b1bb0b07f",
   "metadata": {
    "execution": {
     "iopub.execute_input": "2022-05-05T09:22:24.052192Z",
     "iopub.status.busy": "2022-05-05T09:22:24.051837Z",
     "iopub.status.idle": "2022-05-05T09:22:24.060109Z",
     "shell.execute_reply": "2022-05-05T09:22:24.059473Z",
     "shell.execute_reply.started": "2022-05-05T09:22:24.052163Z"
    },
    "tags": []
   },
   "outputs": [
    {
     "name": "stdout",
     "output_type": "stream",
     "text": [
      "{'Word': <Evoked | '0.36 × Word/wPos + 0.31 × Word/wNeg + 0.33 × Word/wNeu' (average, N=55), -0.1 – 0.696 sec, baseline -0.1 – 0 sec, 28 ch, ~90 kB>, 'Image': <Evoked | '0.34 × Image/wPos + 0.34 × Image/wNeg + 0.20 × Image/wNeu/iPos + 0.12 × Image/wNeu/iNeg' (average, N=59), -0.1 – 0.696 sec, baseline -0.1 – 0 sec, 28 ch, ~90 kB>}\n"
     ]
    }
   ],
   "source": [
    "print(evokeds)"
   ]
  }
 ],
 "metadata": {
  "interpreter": {
   "hash": "ad5c30fea5466ca3b04feb7e0a99857a92ee68be4c3f4107148abce45ea17a05"
  },
  "kernelspec": {
   "display_name": "Python 3 ",
   "language": "python",
   "name": "python3"
  },
  "language_info": {
   "codemirror_mode": {
    "name": "ipython",
    "version": 3
   },
   "file_extension": ".py",
   "mimetype": "text/x-python",
   "name": "python",
   "nbconvert_exporter": "python",
   "pygments_lexer": "ipython3",
   "version": "3.9.10"
  },
  "toc": {
   "base_numbering": 1,
   "nav_menu": {},
   "number_sections": true,
   "sideBar": true,
   "skip_h1_title": false,
   "title_cell": "Table of Contents",
   "title_sidebar": "Contents",
   "toc_cell": false,
   "toc_position": {},
   "toc_section_display": true,
   "toc_window_display": false
  }
 },
 "nbformat": 4,
 "nbformat_minor": 5
}
